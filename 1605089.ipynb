{
 "cells": [
  {
   "cell_type": "markdown",
   "id": "929f51f1",
   "metadata": {},
   "source": [
    "# Importing necessary modules"
   ]
  },
  {
   "cell_type": "code",
   "execution_count": 21,
   "id": "22faf921",
   "metadata": {},
   "outputs": [],
   "source": [
    "import pandas as pd\n",
    "import numpy as np\n",
    "from sklearn.model_selection import train_test_split\n",
    "from sklearn import metrics, preprocessing\n",
    "from sklearn.preprocessing import LabelEncoder"
   ]
  },
  {
   "cell_type": "markdown",
   "id": "11668e50",
   "metadata": {},
   "source": [
    "# Preprocessing data"
   ]
  },
  {
   "cell_type": "code",
   "execution_count": 22,
   "id": "ecda06ac",
   "metadata": {},
   "outputs": [],
   "source": [
    "def telcoDataPreprocess():\n",
    "    df = pd.read_csv (r'Telco-Customer-Churn.csv')\n",
    "\n",
    "    df.gender[df.gender == 'Male'] = 1\n",
    "    df.gender[df.gender == 'Female'] = 0\n",
    "\n",
    "    categories = ['Partner','Dependents','PhoneService', 'PaperlessBilling']\n",
    "    for cat in categories:\n",
    "        df[cat][df[cat] == 'Yes'] = 1\n",
    "        df[cat][df[cat] == 'No'] = 0\n",
    "        \n",
    "    #making output within -1 to 1 as tanh is the logistic regression function\n",
    "    df['Churn'][df['Churn'] == 'Yes'] = 1\n",
    "    df['Churn'][df['Churn'] == 'No'] = -1\n",
    "    \n",
    "#     print(df['Churn'].unique())\n",
    "\n",
    "    #converting data type from string to float\n",
    "    dummy = []\n",
    "    for i in range(len(df['TotalCharges'])):\n",
    "        if df['TotalCharges'][i] != \" \":\n",
    "            df['TotalCharges'][i] = float(df['TotalCharges'][i])\n",
    "            dummy.append(df['TotalCharges'][i])\n",
    "            \n",
    "#     print(dummy)\n",
    "    avg = sum(dummy) / len(dummy)\n",
    "    print(avg)\n",
    "\n",
    "    for i in range(len(df['TotalCharges'])):\n",
    "        if df['TotalCharges'][i] == \" \":\n",
    "            df['TotalCharges'][i] = avg\n",
    "        \n",
    "    df['TotalCharges'] = pd.to_numeric(df['TotalCharges'])\n",
    "\n",
    "\n",
    "\n",
    "    #min-max scaling or normalization\n",
    "    normalize_cats = ['tenure', 'MonthlyCharges', 'TotalCharges']\n",
    "\n",
    "    for col in normalize_cats:\n",
    "        norm = df[[col]]\n",
    "        norm = pd.DataFrame(preprocessing.MinMaxScaler().fit_transform(norm))\n",
    "        df[col] = norm[0]\n",
    "\n",
    "    #removing customer ID as it's a unique string\n",
    "    df.drop(['customerID'], axis = 1, inplace = True)\n",
    "\n",
    "\n",
    "    #doing one hot encoding where unique values are more than two in a particular column\n",
    "    onehot_cols = []\n",
    "    for col in df.columns:\n",
    "        if len(list(df[col].unique())) >= 3:\n",
    "            if isinstance(df[col][0], str):\n",
    "                onehot_cols.append(col)\n",
    "\n",
    "    \n",
    "    for i in range(0, len(onehot_cols)):\n",
    "        dummies = pd.get_dummies(df[[onehot_cols[i]]])\n",
    "        res = pd.concat([df, dummies], axis = 1)\n",
    "        df = res.drop(columns=[onehot_cols[i]])\n",
    "\n",
    "\n",
    "    # print(df)\n",
    "    ##somehow last column is not churn at this moment, so making it the last column\n",
    "    dfp = df.pop('Churn') # remove column output and store it in dfp\n",
    "    df['Churn']=dfp # add churn as a 'new' column at te end.\n",
    "\n",
    "#     print (df.iloc[:,-1])\n",
    "\n",
    "\n",
    "    #preparing training and testing datasets\n",
    "    df1 = df.copy()\n",
    "    df2 = df.copy()\n",
    "    df_features = df1.iloc[:,:-1]\n",
    "    df_output = df2.iloc[:,-1]\n",
    "    \n",
    "    features_training_data = df_features.sample(frac=0.8, random_state=25)\n",
    "    features_testing_data = df_features.drop(features_training_data.index)\n",
    "\n",
    "    output_training_data = df_output.sample(frac=0.8, random_state=25)\n",
    "    output_testing_data = df_output.drop(output_training_data.index)\n",
    "\n",
    "\n",
    "    features_training_data = features_training_data.to_numpy()\n",
    "    features_testing_data = features_testing_data.to_numpy()\n",
    "\n",
    "    output_training_data = output_training_data.to_numpy()\n",
    "    output_testing_data = output_testing_data.to_numpy()\n",
    "\n",
    "\n",
    "    features_training_data = features_training_data.astype('float')\n",
    "    features_testing_data = features_testing_data.astype('float')\n",
    "\n",
    "    output_training_data = output_training_data.astype('int')\n",
    "    output_testing_data = output_testing_data.astype('int')\n",
    "    print(np.unique(np.array(output_testing_data)))\n",
    "    \n",
    "\n",
    "    return features_training_data, features_testing_data, output_training_data, output_testing_data\n"
   ]
  },
  {
   "cell_type": "code",
   "execution_count": 23,
   "id": "6de0151d",
   "metadata": {},
   "outputs": [
    {
     "name": "stderr",
     "output_type": "stream",
     "text": [
      "<ipython-input-22-303e1294ef4b>:4: SettingWithCopyWarning: \n",
      "A value is trying to be set on a copy of a slice from a DataFrame\n",
      "\n",
      "See the caveats in the documentation: https://pandas.pydata.org/pandas-docs/stable/user_guide/indexing.html#returning-a-view-versus-a-copy\n",
      "  df.gender[df.gender == 'Male'] = 1\n",
      "<ipython-input-22-303e1294ef4b>:5: SettingWithCopyWarning: \n",
      "A value is trying to be set on a copy of a slice from a DataFrame\n",
      "\n",
      "See the caveats in the documentation: https://pandas.pydata.org/pandas-docs/stable/user_guide/indexing.html#returning-a-view-versus-a-copy\n",
      "  df.gender[df.gender == 'Female'] = 0\n",
      "<ipython-input-22-303e1294ef4b>:9: SettingWithCopyWarning: \n",
      "A value is trying to be set on a copy of a slice from a DataFrame\n",
      "\n",
      "See the caveats in the documentation: https://pandas.pydata.org/pandas-docs/stable/user_guide/indexing.html#returning-a-view-versus-a-copy\n",
      "  df[cat][df[cat] == 'Yes'] = 1\n",
      "<ipython-input-22-303e1294ef4b>:10: SettingWithCopyWarning: \n",
      "A value is trying to be set on a copy of a slice from a DataFrame\n",
      "\n",
      "See the caveats in the documentation: https://pandas.pydata.org/pandas-docs/stable/user_guide/indexing.html#returning-a-view-versus-a-copy\n",
      "  df[cat][df[cat] == 'No'] = 0\n",
      "<ipython-input-22-303e1294ef4b>:13: SettingWithCopyWarning: \n",
      "A value is trying to be set on a copy of a slice from a DataFrame\n",
      "\n",
      "See the caveats in the documentation: https://pandas.pydata.org/pandas-docs/stable/user_guide/indexing.html#returning-a-view-versus-a-copy\n",
      "  df['Churn'][df['Churn'] == 'Yes'] = 1\n",
      "<ipython-input-22-303e1294ef4b>:14: SettingWithCopyWarning: \n",
      "A value is trying to be set on a copy of a slice from a DataFrame\n",
      "\n",
      "See the caveats in the documentation: https://pandas.pydata.org/pandas-docs/stable/user_guide/indexing.html#returning-a-view-versus-a-copy\n",
      "  df['Churn'][df['Churn'] == 'No'] = -1\n",
      "<ipython-input-22-303e1294ef4b>:22: SettingWithCopyWarning: \n",
      "A value is trying to be set on a copy of a slice from a DataFrame\n",
      "\n",
      "See the caveats in the documentation: https://pandas.pydata.org/pandas-docs/stable/user_guide/indexing.html#returning-a-view-versus-a-copy\n",
      "  df['TotalCharges'][i] = float(df['TotalCharges'][i])\n"
     ]
    },
    {
     "name": "stdout",
     "output_type": "stream",
     "text": [
      "2283.3004408418697\n",
      "[-1  1]\n",
      "[[1. 0. 1. ... 0. 0. 0.]\n",
      " [0. 0. 0. ... 0. 0. 1.]\n",
      " [1. 0. 0. ... 0. 1. 0.]\n",
      " ...\n",
      " [0. 0. 1. ... 1. 0. 0.]\n",
      " [0. 0. 1. ... 0. 0. 1.]\n",
      " [1. 0. 0. ... 0. 0. 0.]] [[1. 0. 1. ... 0. 0. 1.]\n",
      " [1. 0. 0. ... 1. 0. 0.]\n",
      " [1. 0. 0. ... 0. 1. 0.]\n",
      " ...\n",
      " [1. 1. 0. ... 0. 1. 0.]\n",
      " [0. 0. 0. ... 0. 1. 0.]\n",
      " [0. 0. 1. ... 0. 1. 0.]] [-1 -1 -1 ... -1 -1 -1] [-1 -1 -1 ...  1 -1 -1]\n"
     ]
    },
    {
     "name": "stderr",
     "output_type": "stream",
     "text": [
      "<ipython-input-22-303e1294ef4b>:31: SettingWithCopyWarning: \n",
      "A value is trying to be set on a copy of a slice from a DataFrame\n",
      "\n",
      "See the caveats in the documentation: https://pandas.pydata.org/pandas-docs/stable/user_guide/indexing.html#returning-a-view-versus-a-copy\n",
      "  df['TotalCharges'][i] = avg\n"
     ]
    }
   ],
   "source": [
    "features_train, features_test, output_train, output_test = telcoDataPreprocess()\n",
    "\n",
    "print(features_train, features_test, output_train, output_test)"
   ]
  },
  {
   "cell_type": "code",
   "execution_count": 77,
   "id": "2ebbabc2",
   "metadata": {},
   "outputs": [],
   "source": [
    "def creditDataPreprocess():\n",
    "    dfcred = pd.read_csv (r'creditcard.csv')\n",
    "\n",
    "\n",
    "    #min-max scaling or normalization\n",
    "    normalize_cats2 = ['Time', 'V1', 'V2','V3','V4','V5','V6','V7','V8','V9','V10','V11','V12','V13','V14','V15','V16','V17','V18','V19','V20','V21','V22','V23','V24','V25','V26','V27','V28','Amount']\n",
    "\n",
    "    for col in normalize_cats2:\n",
    "        norm2 = dfcred[[col]]\n",
    "        norm2 = pd.DataFrame(preprocessing.MinMaxScaler().fit_transform(norm2))\n",
    "        dfcred[col] = norm2[0]\n",
    "\n",
    "    dfcred['Class'][dfcred['Class'] == 1] = 1\n",
    "    dfcred['Class'][dfcred['Class'] == 0] = -1\n",
    "\n",
    "    #preparing training and testing datasets\n",
    "    dfcred1 = dfcred.copy()\n",
    "    dfcred2 = dfcred.copy()\n",
    "    dfcred_features = dfcred1.iloc[:,:-1]\n",
    "    dfcred_output = dfcred2.iloc[:,-1]\n",
    "\n",
    "    credfeatures_training_data = dfcred_features.sample(frac=0.8, random_state=25)\n",
    "    credfeatures_testing_data = dfcred_features.drop(credfeatures_training_data.index)\n",
    "\n",
    "    credoutput_training_data = dfcred_output.sample(frac=0.8, random_state=25)\n",
    "    credoutput_testing_data = dfcred_output.drop(credoutput_training_data.index)\n",
    "\n",
    "\n",
    "    credfeatures_training_data = credfeatures_training_data.to_numpy()\n",
    "    credfeatures_testing_data = credfeatures_testing_data.to_numpy()\n",
    "\n",
    "    credoutput_training_data = credoutput_training_data.to_numpy()\n",
    "    credoutput_testing_data = credoutput_testing_data.to_numpy()\n",
    "\n",
    "\n",
    "    credfeatures_training_data = credfeatures_training_data.astype('float')\n",
    "    credfeatures_testing_data = credfeatures_testing_data.astype('float')\n",
    "\n",
    "    credoutput_training_data = credoutput_training_data.astype('int')\n",
    "    credoutput_testing_data = credoutput_testing_data.astype('int')\n",
    "\n",
    "    print(np.unique(np.array(credoutput_testing_data)))\n",
    "\n",
    "    print(dfcred2)\n",
    "\n",
    "    return credfeatures_training_data, credfeatures_testing_data, credoutput_training_data, credoutput_testing_data"
   ]
  },
  {
   "cell_type": "code",
   "execution_count": 78,
   "id": "11771fbe",
   "metadata": {},
   "outputs": [
    {
     "name": "stderr",
     "output_type": "stream",
     "text": [
      "<ipython-input-77-9bd49a40c317>:13: SettingWithCopyWarning: \n",
      "A value is trying to be set on a copy of a slice from a DataFrame\n",
      "\n",
      "See the caveats in the documentation: https://pandas.pydata.org/pandas-docs/stable/user_guide/indexing.html#returning-a-view-versus-a-copy\n",
      "  dfcred['Class'][dfcred['Class'] == 1] = 1\n",
      "<ipython-input-77-9bd49a40c317>:14: SettingWithCopyWarning: \n",
      "A value is trying to be set on a copy of a slice from a DataFrame\n",
      "\n",
      "See the caveats in the documentation: https://pandas.pydata.org/pandas-docs/stable/user_guide/indexing.html#returning-a-view-versus-a-copy\n",
      "  dfcred['Class'][dfcred['Class'] == 0] = -1\n"
     ]
    },
    {
     "name": "stdout",
     "output_type": "stream",
     "text": [
      "[-1  1]\n",
      "            Time        V1        V2        V3        V4        V5        V6  \\\n",
      "0       0.000000  0.935192  0.766490  0.881365  0.313023  0.763439  0.267669   \n",
      "1       0.000000  0.978542  0.770067  0.840298  0.271796  0.766120  0.262192   \n",
      "2       0.000006  0.935217  0.753118  0.868141  0.268766  0.762329  0.281122   \n",
      "3       0.000006  0.941878  0.765304  0.868484  0.213661  0.765647  0.275559   \n",
      "4       0.000012  0.938617  0.776520  0.864251  0.269796  0.762975  0.263984   \n",
      "...          ...       ...       ...       ...       ...       ...       ...   \n",
      "284802  0.999965  0.756448  0.873531  0.666991  0.160317  0.729603  0.236810   \n",
      "284803  0.999971  0.945845  0.766677  0.872678  0.219189  0.771561  0.273661   \n",
      "284804  0.999977  0.990905  0.764080  0.781102  0.227202  0.783425  0.293496   \n",
      "284805  0.999977  0.954209  0.772856  0.849587  0.282508  0.763172  0.269291   \n",
      "284806  1.000000  0.949232  0.765256  0.849601  0.229488  0.765632  0.256488   \n",
      "\n",
      "              V7        V8        V9  ...       V21       V22       V23  \\\n",
      "0       0.266815  0.786444  0.475312  ...  0.561184  0.522992  0.663793   \n",
      "1       0.264875  0.786298  0.453981  ...  0.557840  0.480237  0.666938   \n",
      "2       0.270177  0.788042  0.410603  ...  0.565477  0.546030  0.678939   \n",
      "3       0.266803  0.789434  0.414999  ...  0.559734  0.510277  0.662607   \n",
      "4       0.268968  0.782484  0.490950  ...  0.561327  0.547271  0.663392   \n",
      "...          ...       ...       ...  ...       ...       ...       ...   \n",
      "284802  0.235393  0.863749  0.528729  ...  0.564920  0.515249  0.680500   \n",
      "284803  0.265504  0.788548  0.482925  ...  0.564933  0.553153  0.665619   \n",
      "284804  0.263547  0.792985  0.477677  ...  0.565220  0.537005  0.664877   \n",
      "284805  0.261175  0.792671  0.476287  ...  0.565755  0.547353  0.663008   \n",
      "284806  0.274963  0.780938  0.479528  ...  0.565688  0.540031  0.671029   \n",
      "\n",
      "             V24       V25       V26       V27       V28    Amount  Class  \n",
      "0       0.391253  0.585122  0.394557  0.418976  0.312697  0.005824     -1  \n",
      "1       0.336440  0.587290  0.446013  0.416345  0.313423  0.000105     -1  \n",
      "2       0.289354  0.559515  0.402727  0.415489  0.311911  0.014739     -1  \n",
      "3       0.223826  0.614245  0.389197  0.417669  0.314371  0.004807     -1  \n",
      "4       0.401270  0.566343  0.507497  0.420561  0.317490  0.002724     -1  \n",
      "...          ...       ...       ...       ...       ...       ...    ...  \n",
      "284802  0.313600  0.658558  0.466291  0.433929  0.329840  0.000030     -1  \n",
      "284803  0.245298  0.543855  0.360884  0.417775  0.312038  0.000965     -1  \n",
      "284804  0.468492  0.592824  0.411177  0.416593  0.312585  0.002642     -1  \n",
      "284805  0.398836  0.545958  0.514746  0.418520  0.315245  0.000389     -1  \n",
      "284806  0.383420  0.551319  0.291786  0.416466  0.313401  0.008446     -1  \n",
      "\n",
      "[284807 rows x 31 columns]\n",
      "[[1.78451549e-01 9.40990758e-01 7.75114273e-01 ... 4.18775531e-01\n",
      "  3.15292389e-01 4.46846308e-04]\n",
      " [8.84311774e-01 9.42994046e-01 7.76667797e-01 ... 4.18073701e-01\n",
      "  3.14670699e-01 3.89238944e-05]\n",
      " [3.67331821e-01 9.77506698e-01 7.61920075e-01 ... 4.15714188e-01\n",
      "  3.13258706e-01 1.55695578e-03]\n",
      " ...\n",
      " [7.72472105e-01 9.57238151e-01 7.76382581e-01 ... 4.20005316e-01\n",
      "  3.18624312e-01 7.70693110e-05]\n",
      " [3.81800083e-01 9.01867914e-01 8.02420828e-01 ... 4.05829622e-01\n",
      "  3.11305663e-01 3.34356253e-04]\n",
      " [3.56463262e-01 9.15976149e-01 7.33449014e-01 ... 4.21178070e-01\n",
      "  3.18320808e-01 1.24712158e-03]] [[9.25968795e-05 9.70099010e-01 7.52889164e-01 ... 4.18108531e-01\n",
      "  3.14412448e-01 9.01905558e-03]\n",
      " [1.38895319e-04 9.79316165e-01 7.67902457e-01 ... 4.16091870e-01\n",
      "  3.13364058e-01 6.72604896e-04]\n",
      " [2.02555674e-04 9.40230719e-01 7.82222374e-01 ... 4.18702874e-01\n",
      "  3.12942114e-01 7.87041146e-04]\n",
      " ...\n",
      " [9.99918978e-01 7.45649995e-01 8.74754901e-01 ... 4.55100721e-01\n",
      "  3.38142476e-01 3.84178838e-04]\n",
      " [9.99930552e-01 9.90315029e-01 7.65743809e-01 ... 4.16848079e-01\n",
      "  3.12290462e-01 2.33543367e-03]\n",
      " [9.99953702e-01 9.92943374e-01 7.65409399e-01 ... 4.15019092e-01\n",
      "  3.11600453e-01 1.04316037e-04]] [-1 -1 -1 ... -1 -1 -1] [-1 -1 -1 ... -1 -1 -1]\n"
     ]
    }
   ],
   "source": [
    "credfeatures_train, credfeatures_test, credoutput_train, credoutput_test = creditDataPreprocess()\n",
    "\n",
    "print(credfeatures_train, credfeatures_test, credoutput_train, credoutput_test)"
   ]
  },
  {
   "cell_type": "code",
   "execution_count": 24,
   "id": "e2323fd4",
   "metadata": {},
   "outputs": [],
   "source": [
    "def adultDataPreprocess():\n",
    "    dfadult_train = pd.read_csv (r'adult-train.csv')\n",
    "    dfadult_test = pd.read_csv (r'adult-test.csv')\n",
    "    \n",
    "    dfadult_train.sex[dfadult_train.sex == ' Male'] = 1\n",
    "    dfadult_train.sex[dfadult_train.sex == ' Female'] = 0\n",
    "    \n",
    "    dfadult_test.sex[dfadult_test.sex == ' Male'] = 1\n",
    "    dfadult_test.sex[dfadult_test.sex == ' Female'] = 0\n",
    "\n",
    "    #min-max scaling or normalization\n",
    "    normalize_cats3 = ['age', 'fnlwgt', 'education-num','capital-gain','capital-loss','hours-per-week']\n",
    "\n",
    "    for col in normalize_cats3:\n",
    "        norm3 = dfadult_train[[col]]\n",
    "        norm4 = dfadult_test[[col]]\n",
    "        norm3 = pd.DataFrame(preprocessing.MinMaxScaler().fit_transform(norm3))\n",
    "        norm4 = pd.DataFrame(preprocessing.MinMaxScaler().fit_transform(norm4))\n",
    "        dfadult_train[col] = norm3[0]\n",
    "        dfadult_test[col] = norm4[0]\n",
    "\n",
    "    dfadult_train['salary-scale'][dfadult_train['salary-scale'] == \" >50K\"] = 1\n",
    "    dfadult_train['salary-scale'][dfadult_train['salary-scale'] == \" <=50K\"] = -1\n",
    "    \n",
    "    dfadult_test['salary-scale'][dfadult_test['salary-scale'] == \" >50K.\"] = 1\n",
    "    dfadult_test['salary-scale'][dfadult_test['salary-scale'] == \" <=50K.\"] = -1\n",
    "\n",
    "    # print(dfadult_test['workclass'].mode()[0])\n",
    "    ## replacing ? mark with the most seen value\n",
    "    work = dfadult_train['workclass'].mode()[0]\n",
    "    work2 = dfadult_test['workclass'].mode()[0]\n",
    "    for i in range (len(dfadult_train['workclass'])):\n",
    "        if dfadult_train['workclass'][i] == \" ?\":\n",
    "\n",
    "            dfadult_train['workclass'][i] = work\n",
    "     \n",
    "    for i in range (len(dfadult_test['workclass'])):\n",
    "        if dfadult_test['workclass'][i] == \" ?\":\n",
    "\n",
    "            dfadult_test['workclass'][i] = work2\n",
    "\n",
    "    occ = dfadult_train['occupation'].mode()[0]\n",
    "    occ2 = dfadult_test['occupation'].mode()[0]\n",
    "    for i in range (len(dfadult_train['occupation'])):\n",
    "        if dfadult_train['occupation'][i] == \" ?\":\n",
    "\n",
    "            dfadult_train['occupation'][i] = occ\n",
    "            \n",
    "    for i in range (len(dfadult_test['occupation'])):\n",
    "        if dfadult_test['occupation'][i] == \" ?\":\n",
    "\n",
    "            dfadult_test['occupation'][i] = occ2\n",
    "\n",
    "\n",
    "    country = dfadult_train['native-country'].mode()[0]\n",
    "    country2 = dfadult_test['native-country'].mode()[0]\n",
    "    for i in range (len(dfadult_train['native-country'])):\n",
    "        if dfadult_train['native-country'][i] == \" ?\":\n",
    "\n",
    "            dfadult_train['native-country'][i] = country\n",
    "            \n",
    "    for i in range (len(dfadult_test['native-country'])):\n",
    "        if dfadult_test['native-country'][i] == \" ?\":\n",
    "\n",
    "            dfadult_test['native-country'][i] = country2\n",
    "\n",
    "\n",
    "\n",
    "    #doing label encoding (cause train and test are splitted) where unique values are more than two in a particular column\n",
    "    label_cols3 = []\n",
    "    for col in dfadult_train.columns:\n",
    "        if len(list(dfadult_train[col].unique())) >= 3:\n",
    "            if isinstance(dfadult_train[col][0], str):\n",
    "                label_cols3.append(col)\n",
    "\n",
    "\n",
    "    for i in label_cols3:\n",
    "    \n",
    "\n",
    "        c = dfadult_train[i]\n",
    "        \n",
    "        dfadult_train[i] = LabelEncoder().fit_transform(c)\n",
    "        \n",
    "        \n",
    "#         dfadult_train[[i]] = LabelEncoder.fit_transform(dfadult_train[[i]])\n",
    "    \n",
    "    label_cols4 = []\n",
    "    for col in dfadult_test.columns:\n",
    "        if len(list(dfadult_test[col].unique())) >= 3:\n",
    "            if isinstance(dfadult_test[col][0], str):\n",
    "                label_cols4.append(col)\n",
    "\n",
    "\n",
    "    for i in label_cols4:\n",
    "        d = dfadult_test[i]\n",
    "        dfadult_test[i] = LabelEncoder().fit_transform(d)\n",
    "\n",
    "    # print(dfadult_test['native-country'].unique())\n",
    "\n",
    "    ##somehow last column is not salary-scale at this moment, so making it the last column\n",
    "    dfp3 = dfadult_train.pop('salary-scale') # remove column output and store it in dfp\n",
    "    dfadult_train['salary-scale'] = dfp3 # add churn as a 'new' column at te end.\n",
    "    \n",
    "    ##somehow last column is not salary-scale at this moment, so making it the last column\n",
    "    dfp4 = dfadult_test.pop('salary-scale') # remove column output and store it in dfp\n",
    "    dfadult_test['salary-scale'] = dfp4 # add churn as a 'new' column at te end.\n",
    "\n",
    "    print(\"column numbrs\",dfadult_test.columns,dfadult_test.columns )\n",
    "\n",
    "\n",
    "    #preparing training and testing datasets\n",
    "    dfadtrain = dfadult_train.copy()\n",
    "    dfadtest = dfadult_test.copy()\n",
    "    dfadulttrain_features = dfadtrain.iloc[:,:-1]\n",
    "    dfadulttrain_output = dfadtrain.iloc[:,-1]\n",
    "    dfadulttest_features = dfadtest.iloc[:,:-1]\n",
    "    dfadulttest_output = dfadtest.iloc[:,-1]\n",
    "    \n",
    "    print(\"printing shapes\", dfadulttrain_features.shape, dfadulttest_features.shape)\n",
    "    print(dfadulttrain_features)\n",
    "\n",
    "\n",
    "    adultfeatures_training_data = dfadulttrain_features.to_numpy()\n",
    "    adultfeatures_testing_data = dfadulttest_features.to_numpy()\n",
    "\n",
    "    adultoutput_training_data = dfadulttrain_output.to_numpy()\n",
    "    adultoutput_testing_data = dfadulttest_output.to_numpy()\n",
    "\n",
    "\n",
    "    adultfeatures_training_data = adultfeatures_training_data.astype('float')\n",
    "    adultfeatures_testing_data = adultfeatures_testing_data.astype('float')\n",
    "\n",
    "    adultoutput_training_data = adultoutput_training_data.astype('int')\n",
    "    adultoutput_testing_data = adultoutput_testing_data.astype('int')\n",
    "\n",
    "    print(np.unique(np.array(adultoutput_testing_data)))\n",
    "\n",
    "\n",
    "    return adultfeatures_training_data, adultfeatures_testing_data, adultoutput_training_data, adultoutput_testing_data"
   ]
  },
  {
   "cell_type": "code",
   "execution_count": 25,
   "id": "54f0df31",
   "metadata": {},
   "outputs": [
    {
     "name": "stderr",
     "output_type": "stream",
     "text": [
      "<ipython-input-24-79750aa648c6>:5: SettingWithCopyWarning: \n",
      "A value is trying to be set on a copy of a slice from a DataFrame\n",
      "\n",
      "See the caveats in the documentation: https://pandas.pydata.org/pandas-docs/stable/user_guide/indexing.html#returning-a-view-versus-a-copy\n",
      "  dfadult_train.sex[dfadult_train.sex == ' Male'] = 1\n",
      "<ipython-input-24-79750aa648c6>:6: SettingWithCopyWarning: \n",
      "A value is trying to be set on a copy of a slice from a DataFrame\n",
      "\n",
      "See the caveats in the documentation: https://pandas.pydata.org/pandas-docs/stable/user_guide/indexing.html#returning-a-view-versus-a-copy\n",
      "  dfadult_train.sex[dfadult_train.sex == ' Female'] = 0\n",
      "<ipython-input-24-79750aa648c6>:8: SettingWithCopyWarning: \n",
      "A value is trying to be set on a copy of a slice from a DataFrame\n",
      "\n",
      "See the caveats in the documentation: https://pandas.pydata.org/pandas-docs/stable/user_guide/indexing.html#returning-a-view-versus-a-copy\n",
      "  dfadult_test.sex[dfadult_test.sex == ' Male'] = 1\n",
      "<ipython-input-24-79750aa648c6>:9: SettingWithCopyWarning: \n",
      "A value is trying to be set on a copy of a slice from a DataFrame\n",
      "\n",
      "See the caveats in the documentation: https://pandas.pydata.org/pandas-docs/stable/user_guide/indexing.html#returning-a-view-versus-a-copy\n",
      "  dfadult_test.sex[dfadult_test.sex == ' Female'] = 0\n",
      "<ipython-input-24-79750aa648c6>:22: SettingWithCopyWarning: \n",
      "A value is trying to be set on a copy of a slice from a DataFrame\n",
      "\n",
      "See the caveats in the documentation: https://pandas.pydata.org/pandas-docs/stable/user_guide/indexing.html#returning-a-view-versus-a-copy\n",
      "  dfadult_train['salary-scale'][dfadult_train['salary-scale'] == \" >50K\"] = 1\n",
      "<ipython-input-24-79750aa648c6>:23: SettingWithCopyWarning: \n",
      "A value is trying to be set on a copy of a slice from a DataFrame\n",
      "\n",
      "See the caveats in the documentation: https://pandas.pydata.org/pandas-docs/stable/user_guide/indexing.html#returning-a-view-versus-a-copy\n",
      "  dfadult_train['salary-scale'][dfadult_train['salary-scale'] == \" <=50K\"] = -1\n",
      "<ipython-input-24-79750aa648c6>:25: SettingWithCopyWarning: \n",
      "A value is trying to be set on a copy of a slice from a DataFrame\n",
      "\n",
      "See the caveats in the documentation: https://pandas.pydata.org/pandas-docs/stable/user_guide/indexing.html#returning-a-view-versus-a-copy\n",
      "  dfadult_test['salary-scale'][dfadult_test['salary-scale'] == \" >50K.\"] = 1\n",
      "<ipython-input-24-79750aa648c6>:26: SettingWithCopyWarning: \n",
      "A value is trying to be set on a copy of a slice from a DataFrame\n",
      "\n",
      "See the caveats in the documentation: https://pandas.pydata.org/pandas-docs/stable/user_guide/indexing.html#returning-a-view-versus-a-copy\n",
      "  dfadult_test['salary-scale'][dfadult_test['salary-scale'] == \" <=50K.\"] = -1\n",
      "<ipython-input-24-79750aa648c6>:35: SettingWithCopyWarning: \n",
      "A value is trying to be set on a copy of a slice from a DataFrame\n",
      "\n",
      "See the caveats in the documentation: https://pandas.pydata.org/pandas-docs/stable/user_guide/indexing.html#returning-a-view-versus-a-copy\n",
      "  dfadult_train['workclass'][i] = work\n",
      "<ipython-input-24-79750aa648c6>:40: SettingWithCopyWarning: \n",
      "A value is trying to be set on a copy of a slice from a DataFrame\n",
      "\n",
      "See the caveats in the documentation: https://pandas.pydata.org/pandas-docs/stable/user_guide/indexing.html#returning-a-view-versus-a-copy\n",
      "  dfadult_test['workclass'][i] = work2\n",
      "<ipython-input-24-79750aa648c6>:47: SettingWithCopyWarning: \n",
      "A value is trying to be set on a copy of a slice from a DataFrame\n",
      "\n",
      "See the caveats in the documentation: https://pandas.pydata.org/pandas-docs/stable/user_guide/indexing.html#returning-a-view-versus-a-copy\n",
      "  dfadult_train['occupation'][i] = occ\n",
      "<ipython-input-24-79750aa648c6>:52: SettingWithCopyWarning: \n",
      "A value is trying to be set on a copy of a slice from a DataFrame\n",
      "\n",
      "See the caveats in the documentation: https://pandas.pydata.org/pandas-docs/stable/user_guide/indexing.html#returning-a-view-versus-a-copy\n",
      "  dfadult_test['occupation'][i] = occ2\n",
      "<ipython-input-24-79750aa648c6>:60: SettingWithCopyWarning: \n",
      "A value is trying to be set on a copy of a slice from a DataFrame\n",
      "\n",
      "See the caveats in the documentation: https://pandas.pydata.org/pandas-docs/stable/user_guide/indexing.html#returning-a-view-versus-a-copy\n",
      "  dfadult_train['native-country'][i] = country\n",
      "<ipython-input-24-79750aa648c6>:65: SettingWithCopyWarning: \n",
      "A value is trying to be set on a copy of a slice from a DataFrame\n",
      "\n",
      "See the caveats in the documentation: https://pandas.pydata.org/pandas-docs/stable/user_guide/indexing.html#returning-a-view-versus-a-copy\n",
      "  dfadult_test['native-country'][i] = country2\n"
     ]
    },
    {
     "name": "stdout",
     "output_type": "stream",
     "text": [
      "column numbrs Index(['age', 'workclass', 'fnlwgt', 'education', 'education-num',\n",
      "       'marital-status', 'occupation', 'relationship', 'race', 'sex',\n",
      "       'capital-gain', 'capital-loss', 'hours-per-week', 'native-country',\n",
      "       'salary-scale'],\n",
      "      dtype='object') Index(['age', 'workclass', 'fnlwgt', 'education', 'education-num',\n",
      "       'marital-status', 'occupation', 'relationship', 'race', 'sex',\n",
      "       'capital-gain', 'capital-loss', 'hours-per-week', 'native-country',\n",
      "       'salary-scale'],\n",
      "      dtype='object')\n",
      "printing shapes (32561, 14) (16281, 14)\n",
      "            age  workclass    fnlwgt  education  education-num  \\\n",
      "0      0.301370          6  0.044302          9       0.800000   \n",
      "1      0.452055          5  0.048238          9       0.800000   \n",
      "2      0.287671          3  0.138113         11       0.533333   \n",
      "3      0.493151          3  0.151068          1       0.400000   \n",
      "4      0.150685          3  0.221488          9       0.800000   \n",
      "...         ...        ...       ...        ...            ...   \n",
      "32556  0.136986          3  0.166404          7       0.733333   \n",
      "32557  0.315068          3  0.096500         11       0.533333   \n",
      "32558  0.561644          3  0.094827         11       0.533333   \n",
      "32559  0.068493          3  0.128499         11       0.533333   \n",
      "32560  0.479452          4  0.187203         11       0.533333   \n",
      "\n",
      "       marital-status  occupation  relationship  race sex  capital-gain  \\\n",
      "0                   4           0             1     4   1      0.021740   \n",
      "1                   2           3             0     4   1      0.000000   \n",
      "2                   0           5             1     4   1      0.000000   \n",
      "3                   2           5             0     2   1      0.000000   \n",
      "4                   2           9             5     2   0      0.000000   \n",
      "...               ...         ...           ...   ...  ..           ...   \n",
      "32556               2          12             5     4   0      0.000000   \n",
      "32557               2           6             0     4   1      0.000000   \n",
      "32558               6           0             4     4   0      0.000000   \n",
      "32559               4           0             3     4   1      0.000000   \n",
      "32560               2           3             5     4   0      0.150242   \n",
      "\n",
      "       capital-loss  hours-per-week  native-country  \n",
      "0               0.0        0.397959              38  \n",
      "1               0.0        0.122449              38  \n",
      "2               0.0        0.397959              38  \n",
      "3               0.0        0.397959              38  \n",
      "4               0.0        0.397959               4  \n",
      "...             ...             ...             ...  \n",
      "32556           0.0        0.377551              38  \n",
      "32557           0.0        0.397959              38  \n",
      "32558           0.0        0.397959              38  \n",
      "32559           0.0        0.193878              38  \n",
      "32560           0.0        0.397959              38  \n",
      "\n",
      "[32561 rows x 14 columns]\n",
      "[-1  1]\n",
      "[[ 0.30136986  6.          0.0443019  ...  0.          0.39795918\n",
      "  38.        ]\n",
      " [ 0.45205479  5.          0.0482376  ...  0.          0.12244898\n",
      "  38.        ]\n",
      " [ 0.28767123  3.          0.13811345 ...  0.          0.39795918\n",
      "  38.        ]\n",
      " ...\n",
      " [ 0.56164384  3.          0.09482688 ...  0.          0.39795918\n",
      "  38.        ]\n",
      " [ 0.06849315  3.          0.12849934 ...  0.          0.19387755\n",
      "  38.        ]\n",
      " [ 0.47945205  4.          0.18720338 ...  0.          0.39795918\n",
      "  38.        ]] [[ 0.10958904  3.          0.14443012 ...  0.          0.39795918\n",
      "  37.        ]\n",
      " [ 0.28767123  3.          0.05167688 ...  0.          0.5\n",
      "  37.        ]\n",
      " [ 0.15068493  1.          0.21901093 ...  0.          0.39795918\n",
      "  37.        ]\n",
      " ...\n",
      " [ 0.28767123  3.          0.24476203 ...  0.          0.5\n",
      "  37.        ]\n",
      " [ 0.36986301  3.          0.04766648 ...  0.          0.39795918\n",
      "  37.        ]\n",
      " [ 0.24657534  4.          0.11419533 ...  0.          0.60204082\n",
      "  37.        ]] [-1 -1 -1 ... -1 -1  1] [-1 -1  1 ... -1 -1  1]\n"
     ]
    }
   ],
   "source": [
    "adultfeatures_train, adultfeatures_test, adultoutput_train, adultoutput_test = adultDataPreprocess()\n",
    "\n",
    "print(adultfeatures_train, adultfeatures_test, adultoutput_train, adultoutput_test)"
   ]
  },
  {
   "cell_type": "markdown",
   "id": "c8e4667c",
   "metadata": {},
   "source": [
    "# Logistic regression parameters and other variables determining"
   ]
  },
  {
   "cell_type": "code",
   "execution_count": 26,
   "id": "1d198f92",
   "metadata": {},
   "outputs": [],
   "source": [
    "def tanh(x):\n",
    "    return (np.exp(x) - np.exp(-x)) / (np.exp(x) + np.exp(-x))\n",
    "    "
   ]
  },
  {
   "cell_type": "code",
   "execution_count": 27,
   "id": "5e0765a1",
   "metadata": {},
   "outputs": [],
   "source": [
    "def derivative_tanh(x):\n",
    "    return 1- (tanh(x)**2)"
   ]
  },
  {
   "cell_type": "code",
   "execution_count": 28,
   "id": "a9f98a62",
   "metadata": {},
   "outputs": [],
   "source": [
    "def loss(y, y_hat):\n",
    "    loss = (np.sum((y - y_hat) **2)) / len(y)\n",
    "    return loss"
   ]
  },
  {
   "cell_type": "code",
   "execution_count": 29,
   "id": "1edff21d",
   "metadata": {},
   "outputs": [],
   "source": [
    "def gradients(X, y, y_hat, der_y):\n",
    "    \n",
    "    # X --> Input.\n",
    "    # y --> true/target value.\n",
    "    # y_hat --> hypothesis/predictions.\n",
    "    # m-> number of training examples.\n",
    "    \n",
    "    m, n = X.shape\n",
    "    \n",
    "    # Gradient of loss w.r.t weights.\n",
    "    for i in range(0, len(y_hat)):\n",
    "        if y_hat[i] > 0:\n",
    "            y_hat[i] = 1\n",
    "            \n",
    "        else:\n",
    "            y_hat[i] = -1\n",
    "            \n",
    "    dw = (1/m)*np.dot(X.T, (y_hat - y)*der_y)\n",
    "    \n",
    "    # Gradient of loss w.r.t bias.\n",
    "    db = (1/m)*np.sum((y_hat - y)) \n",
    "    \n",
    "    return dw, db"
   ]
  },
  {
   "cell_type": "code",
   "execution_count": 30,
   "id": "cdc71b98",
   "metadata": {},
   "outputs": [],
   "source": [
    "def predict(X, w, b):\n",
    "    \n",
    "    preds = tanh(np.dot(X, w) + b)\n",
    "    \n",
    "    # Empty List to store predictions.\n",
    "    pred_class = []\n",
    "    # if y_hat >= 0 --> round up to 1\n",
    "    # if y_hat < 0 --> round up to 1\n",
    "    pred_class = [1 if i > 0 else -1 for i in preds]\n",
    "    \n",
    "#     print(np.unique(np.array(pred_class)))\n",
    "    \n",
    "    return np.array(pred_class)"
   ]
  },
  {
   "cell_type": "code",
   "execution_count": 31,
   "id": "c0accc0b",
   "metadata": {},
   "outputs": [],
   "source": [
    "def logistic_regression(features, output, bias, iterations, learning_rate):\n",
    "    m, n = features.shape\n",
    "    w = np.zeros((n,1))\n",
    "    b = 0\n",
    "    \n",
    "    output = output.reshape(m,1)\n",
    "    \n",
    "    losses = []\n",
    "    \n",
    "    for i in range(iterations):\n",
    "\n",
    "            \n",
    "            # Calculating hypothesis/prediction.\n",
    "        y_hat = tanh(np.dot(features, w) + b)\n",
    "            \n",
    "        der_y = derivative_tanh(np.dot(features, w) + b)\n",
    "            \n",
    "            # Getting the gradients of loss w.r.t parameters.\n",
    "            \n",
    "            \n",
    "        dw, db = gradients(features, output, y_hat, der_y)\n",
    "            \n",
    "            \n",
    "        w -= learning_rate*dw\n",
    "        b -= learning_rate*db\n",
    "        \n",
    "        \n",
    "        l = loss(output, tanh(np.dot(features, w) + b))\n",
    "        losses.append(l)\n",
    "    \n",
    "    return w, b, losses\n",
    "    "
   ]
  },
  {
   "cell_type": "code",
   "execution_count": 32,
   "id": "5f9b0819",
   "metadata": {},
   "outputs": [],
   "source": [
    "# print(output_test)"
   ]
  },
  {
   "cell_type": "code",
   "execution_count": 33,
   "id": "f9cead23",
   "metadata": {},
   "outputs": [
    {
     "name": "stdout",
     "output_type": "stream",
     "text": [
      "[ 1 -1  1 ...  1  1  1]\n"
     ]
    }
   ],
   "source": [
    "# Training \n",
    "w, b, l = logistic_regression(features_train, output_train, 0, 1000, 0.025)\n",
    "\n",
    "# Testing\n",
    "predicted_output = predict(features_test, w, b)\n",
    "\n",
    "print(predicted_output)\n"
   ]
  },
  {
   "cell_type": "code",
   "execution_count": 35,
   "id": "4e8de701",
   "metadata": {},
   "outputs": [],
   "source": [
    "predicted_output2 = predict(features_train, w, b)"
   ]
  },
  {
   "cell_type": "code",
   "execution_count": 36,
   "id": "db0c7574",
   "metadata": {},
   "outputs": [
    {
     "name": "stdout",
     "output_type": "stream",
     "text": [
      "(14, 1)\n",
      "[-1 -1 -1 ... -1 -1 -1]\n"
     ]
    }
   ],
   "source": [
    "wadult, badult, ladult = logistic_regression(adultfeatures_train, adultoutput_train, 0, 1000 , 0.025)\n",
    "print(wadult.shape)\n",
    "predicted_outputadult = predict(adultfeatures_test, wadult, badult)\n",
    "print(predicted_outputadult)"
   ]
  },
  {
   "cell_type": "code",
   "execution_count": 37,
   "id": "066c9001",
   "metadata": {},
   "outputs": [],
   "source": [
    "predicted_outputadult2 = predict(adultfeatures_train, wadult, badult)"
   ]
  },
  {
   "cell_type": "code",
   "execution_count": 145,
   "id": "cf63d3b6",
   "metadata": {},
   "outputs": [
    {
     "name": "stdout",
     "output_type": "stream",
     "text": [
      "[-1 -1 -1 ... -1 -1 -1]\n"
     ]
    }
   ],
   "source": [
    "wcred, bcred, lcred = logistic_regression(credfeatures_train, credoutput_train, 0, 400 , 0.025)\n",
    "predicted_outputcred = predict(credfeatures_test, wcred, bcred)\n",
    "print(predicted_outputcred)"
   ]
  },
  {
   "cell_type": "code",
   "execution_count": 146,
   "id": "fe0bf88a",
   "metadata": {},
   "outputs": [],
   "source": [
    "predicted_outputcred2 = predict(credfeatures_train, wcred, bcred)"
   ]
  },
  {
   "cell_type": "code",
   "execution_count": 38,
   "id": "1bfa49c6",
   "metadata": {},
   "outputs": [
    {
     "name": "stdout",
     "output_type": "stream",
     "text": [
      "Accuracy value of telco data on test data: 0.6799148332150461\n",
      "Precision value of telco data on test data: 0.441340782122905\n",
      "Recall value of telco data on test data: 0.8610354223433242\n",
      "F1 score of telco data on test data: 0.5835641735918744\n"
     ]
    }
   ],
   "source": [
    "print(\"Accuracy value of telco data on test data:\", metrics.accuracy_score(output_test, predicted_output))\n",
    "print(\"Precision value of telco data on test data:\", metrics.precision_score(output_test, predicted_output))\n",
    "print(\"Recall value of telco data on test data:\", metrics.recall_score(output_test, predicted_output))\n",
    "print(\"F1 score of telco data on test data:\", metrics.f1_score(output_test, predicted_output))\n"
   ]
  },
  {
   "cell_type": "code",
   "execution_count": 18,
   "id": "91dca9a5",
   "metadata": {},
   "outputs": [
    {
     "name": "stdout",
     "output_type": "stream",
     "text": [
      "Accuracy value of telco data on train data: 0.692403265885694\n",
      "Precision value of telco data on train data: 0.45977011494252873\n",
      "Recall value of telco data on train data: 0.8788282290279628\n",
      "F1 score of telco data on train data: 0.6037045506517266\n"
     ]
    }
   ],
   "source": [
    "print(\"Accuracy value of telco data on train data:\", metrics.accuracy_score(output_train, predicted_output2))\n",
    "print(\"Precision value of telco data on train data:\", metrics.precision_score(output_train, predicted_output2))\n",
    "print(\"Recall value of telco data on train data:\", metrics.recall_score(output_train, predicted_output2))\n",
    "print(\"F1 score of telco data on train data:\", metrics.f1_score(output_train, predicted_output2))"
   ]
  },
  {
   "cell_type": "code",
   "execution_count": 19,
   "id": "e3795a2c",
   "metadata": {},
   "outputs": [
    {
     "name": "stdout",
     "output_type": "stream",
     "text": [
      "Accuracy value of adult data on test data: 0.7637737239727289\n",
      "Precision value of adult data on test data: 0.0\n",
      "Recall value of adult data on test data: 0.0\n",
      "F1 score of adult data on test data: 0.0\n"
     ]
    },
    {
     "name": "stderr",
     "output_type": "stream",
     "text": [
      "C:\\Users\\eliza\\anaconda3\\lib\\site-packages\\sklearn\\metrics\\_classification.py:1245: UndefinedMetricWarning: Precision is ill-defined and being set to 0.0 due to no predicted samples. Use `zero_division` parameter to control this behavior.\n",
      "  _warn_prf(average, modifier, msg_start, len(result))\n"
     ]
    }
   ],
   "source": [
    "print(\"Accuracy value of adult data on test data:\", metrics.accuracy_score(adultoutput_test, predicted_outputadult))\n",
    "print(\"Precision value of adult data on test data:\", metrics.precision_score(adultoutput_test, predicted_outputadult))\n",
    "print(\"Recall value of adult data on test data:\", metrics.recall_score(adultoutput_test, predicted_outputadult))\n",
    "print(\"F1 score of adult data on test data:\", metrics.f1_score(adultoutput_test, predicted_outputadult))"
   ]
  },
  {
   "cell_type": "code",
   "execution_count": 20,
   "id": "28b5c2ed",
   "metadata": {},
   "outputs": [
    {
     "name": "stdout",
     "output_type": "stream",
     "text": [
      "Accuracy value of adult data on train data: 0.7591597309664937\n",
      "Precision value of adult data on train data: 0.0\n",
      "Recall value of adult data on train data: 0.0\n",
      "F1 score of adult data on train data: 0.0\n"
     ]
    }
   ],
   "source": [
    "print(\"Accuracy value of adult data on train data:\", metrics.accuracy_score(adultoutput_train, predicted_outputadult2))\n",
    "print(\"Precision value of adult data on train data:\", metrics.precision_score(adultoutput_train, predicted_outputadult2))\n",
    "print(\"Recall value of adult data on train data:\", metrics.recall_score(adultoutput_train, predicted_outputadult2))\n",
    "print(\"F1 score of adult data on train data:\", metrics.f1_score(adultoutput_train, predicted_outputadult2))"
   ]
  },
  {
   "cell_type": "code",
   "execution_count": 147,
   "id": "8b2e20e5",
   "metadata": {},
   "outputs": [
    {
     "name": "stdout",
     "output_type": "stream",
     "text": [
      "Accuracy value of credit data on test data: 0.9984024156879269\n",
      "Precision value of credit data on test data: 0.0\n",
      "Recall value of credit data on test data: 0.0\n",
      "F1 score of cred data on test data: 0.0\n"
     ]
    },
    {
     "name": "stderr",
     "output_type": "stream",
     "text": [
      "C:\\Users\\eliza\\anaconda3\\lib\\site-packages\\sklearn\\metrics\\_classification.py:1245: UndefinedMetricWarning: Precision is ill-defined and being set to 0.0 due to no predicted samples. Use `zero_division` parameter to control this behavior.\n",
      "  _warn_prf(average, modifier, msg_start, len(result))\n"
     ]
    }
   ],
   "source": [
    "print(\"Accuracy value of credit data on test data:\", metrics.accuracy_score(credoutput_test, predicted_outputcred))\n",
    "print(\"Precision value of credit data on test data:\", metrics.precision_score(credoutput_test, predicted_outputcred))\n",
    "print(\"Recall value of credit data on test data:\", metrics.recall_score(credoutput_test, predicted_outputcred))\n",
    "print(\"F1 score of cred data on test data:\", metrics.f1_score(credoutput_test, predicted_outputcred))"
   ]
  },
  {
   "cell_type": "code",
   "execution_count": 148,
   "id": "c5115b16",
   "metadata": {},
   "outputs": [
    {
     "name": "stdout",
     "output_type": "stream",
     "text": [
      "Accuracy value of credit data on train data: 0.9982400393248071\n",
      "Precision value of credit data on train data: 0.0\n",
      "Recall value of credit data on train data: 0.0\n"
     ]
    },
    {
     "name": "stderr",
     "output_type": "stream",
     "text": [
      "C:\\Users\\eliza\\anaconda3\\lib\\site-packages\\sklearn\\metrics\\_classification.py:1245: UndefinedMetricWarning: Precision is ill-defined and being set to 0.0 due to no predicted samples. Use `zero_division` parameter to control this behavior.\n",
      "  _warn_prf(average, modifier, msg_start, len(result))\n"
     ]
    },
    {
     "name": "stdout",
     "output_type": "stream",
     "text": [
      "F1 score of cred data on train data: 0.0\n"
     ]
    }
   ],
   "source": [
    "print(\"Accuracy value of credit data on train data:\", metrics.accuracy_score(credoutput_train, predicted_outputcred2))\n",
    "print(\"Precision value of credit data on train data:\", metrics.precision_score(credoutput_train, predicted_outputcred2))\n",
    "print(\"Recall value of credit data on train data:\", metrics.recall_score(credoutput_train, predicted_outputcred2))\n",
    "print(\"F1 score of cred data on train data:\", metrics.f1_score(credoutput_train, predicted_outputcred2))"
   ]
  },
  {
   "cell_type": "code",
   "execution_count": 133,
   "id": "4a93edde",
   "metadata": {},
   "outputs": [
    {
     "name": "stdout",
     "output_type": "stream",
     "text": [
      "Confusion matrix of telco data on test data: [[642 400]\n",
      " [ 51 316]]\n",
      "Specificity value of telco data on test data: 0.6161228406909789\n",
      "False discovery rate of telco data on test data: 0.5586592178770949\n"
     ]
    }
   ],
   "source": [
    "#tn, fp, fn, tp\n",
    "print(\"Confusion matrix of telco data on test data:\", metrics.confusion_matrix(output_test, predicted_output))\n",
    "tn = metrics.confusion_matrix(output_test, predicted_output)[0][0]\n",
    "fp = metrics.confusion_matrix(output_test, predicted_output)[0][1]\n",
    "tp = metrics.confusion_matrix(output_test, predicted_output)[1][1]\n",
    "specificityt = tn / (tn+fp)\n",
    "fdrt = fp / (fp+tp)\n",
    "print(\"Specificity value of telco data on test data:\", specificityt)\n",
    "\n",
    "print(\"False discovery rate of telco data on test data:\", fdrt)\n"
   ]
  },
  {
   "cell_type": "code",
   "execution_count": 134,
   "id": "6327cbc4",
   "metadata": {},
   "outputs": [
    {
     "name": "stdout",
     "output_type": "stream",
     "text": [
      "Confusion matrix of telco data on train data: [[2581 1551]\n",
      " [ 182 1320]]\n",
      "Specificity value of telco data on train data: 0.6246369796708615\n",
      "False discovery rate of telco data on train data: 0.5402298850574713\n"
     ]
    }
   ],
   "source": [
    "#tn, fp, fn, tp\n",
    "print(\"Confusion matrix of telco data on train data:\", metrics.confusion_matrix(output_train, predicted_output2))\n",
    "tn = metrics.confusion_matrix(output_train, predicted_output2)[0][0]\n",
    "fp = metrics.confusion_matrix(output_train, predicted_output2)[0][1]\n",
    "tp = metrics.confusion_matrix(output_train, predicted_output2)[1][1]\n",
    "specificityt = tn / (tn+fp)\n",
    "fdrt = fp / (fp+tp)\n",
    "print(\"Specificity value of telco data on train data:\", specificityt)\n",
    "\n",
    "print(\"False discovery rate of telco data on train data:\", fdrt)\n"
   ]
  },
  {
   "cell_type": "code",
   "execution_count": 135,
   "id": "5eaa1662",
   "metadata": {},
   "outputs": [
    {
     "name": "stdout",
     "output_type": "stream",
     "text": [
      "Confusion matrix of adult data on test data: [[12435     0]\n",
      " [ 3846     0]]\n",
      "Specificity value of adult data on test data: 1.0\n",
      "False discovery rate of adult data on test data: nan\n"
     ]
    },
    {
     "name": "stderr",
     "output_type": "stream",
     "text": [
      "<ipython-input-135-1efca90aeb5f>:7: RuntimeWarning: invalid value encountered in longlong_scalars\n",
      "  fdra = fp / (fp+tp)\n"
     ]
    }
   ],
   "source": [
    "print(\"Confusion matrix of adult data on test data:\", metrics.confusion_matrix(adultoutput_test, predicted_outputadult))\n",
    "\n",
    "tn = metrics.confusion_matrix(adultoutput_test, predicted_outputadult)[0][0]\n",
    "fp = metrics.confusion_matrix(adultoutput_test, predicted_outputadult)[0][1]\n",
    "tp = metrics.confusion_matrix(adultoutput_test, predicted_outputadult)[1][1]\n",
    "specificitya = tn / (tn+fp)\n",
    "fdra = fp / (fp+tp)\n",
    "print(\"Specificity value of adult data on test data:\", specificitya)\n",
    "print(\"False discovery rate of adult data on test data:\", fdra)"
   ]
  },
  {
   "cell_type": "code",
   "execution_count": 136,
   "id": "dee6a36c",
   "metadata": {},
   "outputs": [
    {
     "name": "stdout",
     "output_type": "stream",
     "text": [
      "Confusion matrix of adult data on train data: [[24719     1]\n",
      " [ 7841     0]]\n",
      "Specificity value of adult data on test data: 0.9999595469255663\n",
      "False discovery rate of adult data on test data: 1.0\n"
     ]
    }
   ],
   "source": [
    "print(\"Confusion matrix of adult data on train data:\", metrics.confusion_matrix(adultoutput_train, predicted_outputadult2))\n",
    "\n",
    "tn = metrics.confusion_matrix(adultoutput_train, predicted_outputadult2)[0][0]\n",
    "fp = metrics.confusion_matrix(adultoutput_train, predicted_outputadult2)[0][1]\n",
    "tp = metrics.confusion_matrix(adultoutput_train, predicted_outputadult2)[1][1]\n",
    "specificitya = tn / (tn+fp)\n",
    "fdra = fp / (fp+tp)\n",
    "print(\"Specificity value of adult data on test data:\", specificitya)\n",
    "print(\"False discovery rate of adult data on test data:\", fdra)"
   ]
  },
  {
   "cell_type": "code",
   "execution_count": 149,
   "id": "6eb2ffc4",
   "metadata": {},
   "outputs": [
    {
     "name": "stdout",
     "output_type": "stream",
     "text": [
      "Confusion matrix of credit data on test data: [[56870     0]\n",
      " [   91     0]]\n",
      "Specificity value of credit data on test data: 1.0\n",
      "False discovery rate of adult data on test data: nan\n"
     ]
    },
    {
     "name": "stderr",
     "output_type": "stream",
     "text": [
      "<ipython-input-149-4bbcb4d58b05>:6: RuntimeWarning: invalid value encountered in longlong_scalars\n",
      "  fdrc = fp / (fp+tp)\n"
     ]
    }
   ],
   "source": [
    "print(\"Confusion matrix of credit data on test data:\", metrics.confusion_matrix(credoutput_test, predicted_outputcred))\n",
    "tn = metrics.confusion_matrix(credoutput_test, predicted_outputcred)[0][0]\n",
    "fp = metrics.confusion_matrix(credoutput_test, predicted_outputcred)[0][1]\n",
    "tp = metrics.confusion_matrix(credoutput_test, predicted_outputcred)[1][1]\n",
    "specificityc = tn / (tn+fp)\n",
    "fdrc = fp / (fp+tp)\n",
    "print(\"Specificity value of credit data on test data:\", specificityc)\n",
    "print(\"False discovery rate of adult data on test data:\", fdrc)"
   ]
  },
  {
   "cell_type": "code",
   "execution_count": 150,
   "id": "dd339706",
   "metadata": {},
   "outputs": [
    {
     "name": "stdout",
     "output_type": "stream",
     "text": [
      "Confusion matrix of credit data on train data: [[227445      0]\n",
      " [   401      0]]\n",
      "Specificity value of credit data on test data: 1.0\n",
      "False discovery rate of adult data on test data: nan\n"
     ]
    },
    {
     "name": "stderr",
     "output_type": "stream",
     "text": [
      "<ipython-input-150-575188d5a2a3>:6: RuntimeWarning: invalid value encountered in longlong_scalars\n",
      "  fdrc = fp / (fp+tp)\n"
     ]
    }
   ],
   "source": [
    "print(\"Confusion matrix of credit data on train data:\", metrics.confusion_matrix(credoutput_train, predicted_outputcred2))\n",
    "tn = metrics.confusion_matrix(credoutput_train, predicted_outputcred2)[0][0]\n",
    "fp = metrics.confusion_matrix(credoutput_train, predicted_outputcred2)[0][1]\n",
    "tp = metrics.confusion_matrix(credoutput_train, predicted_outputcred2)[1][1]\n",
    "specificityc = tn / (tn+fp)\n",
    "fdrc = fp / (fp+tp)\n",
    "print(\"Specificity value of credit data on test data:\", specificityc)\n",
    "print(\"False discovery rate of adult data on test data:\", fdrc)"
   ]
  },
  {
   "cell_type": "markdown",
   "id": "f1c85042",
   "metadata": {},
   "source": [
    "#Adaboost "
   ]
  },
  {
   "cell_type": "code",
   "execution_count": 105,
   "id": "c8bf9bd3",
   "metadata": {},
   "outputs": [],
   "source": [
    "#Adaboost\n",
    "\n",
    "def Adaboost(features, output, K):\n",
    "    m,n = features.shape\n",
    "    l = output.shape\n",
    "    \n",
    "    w1 = [1/n for j in range(n)]\n",
    "    h = np.zeros((K,n))\n",
    "    z = np.zeros((K,1))\n",
    "   \n",
    "    \n",
    "    for k in range(K):\n",
    "        reIndexList = np.random.choice(np.arange(n),n,w1)\n",
    "        sampleFeature = np.zeros((m,len(reIndexList)))\n",
    "        sampleOutput =  np.zeros(l)\n",
    "        for i in range(m):\n",
    "            for j in range(len(reIndexList)):\n",
    "                sampleFeature[i][j] = features[i][reIndexList[j]]\n",
    "                sampleOutput[j] = output[reIndexList[j]]\n",
    "                \n",
    "               \n",
    "        \n",
    "        w2, b,_ = logistic_regression(sampleFeature, sampleOutput, 0, 300, 0.025)\n",
    "#         print(w2.shape)\n",
    "#         h[k] = (np.array(w2)).reshape((len(w2),1))\n",
    "        h[k] = (np.array(w2)).flatten()\n",
    "        \n",
    "        pred_values = predict(features, w2, b)\n",
    "        error = 0\n",
    "        \n",
    "        for j in range(n):\n",
    "            if pred_values[j] != output[j]:\n",
    "                error = error + w1[j]\n",
    "                \n",
    "        if error>0.5:\n",
    "            continue\n",
    "        \n",
    "        for j in range(n):\n",
    "            if pred_values[j] == output[j]:\n",
    "                w1[j] = (w1[j] * error) / (1 - error)\n",
    "        \n",
    "        for j in range(len(w1)):\n",
    "            w1[j] = w1[j] / np.sum(w1)\n",
    "            \n",
    "        z[k] = np.log((1-error)/ error)\n",
    "            \n",
    "            \n",
    "    return h, z\n",
    "            \n",
    "            \n",
    "        \n",
    "        \n",
    "        \n",
    "        \n",
    "        \n",
    "    "
   ]
  },
  {
   "cell_type": "code",
   "execution_count": 106,
   "id": "8b30afd8",
   "metadata": {},
   "outputs": [],
   "source": [
    "h, z = Adaboost(features_train, output_train, 5)\n",
    "\n",
    "\n",
    "\n",
    "# print(h,z)"
   ]
  },
  {
   "cell_type": "code",
   "execution_count": 107,
   "id": "92d36de7",
   "metadata": {},
   "outputs": [],
   "source": [
    "hadult, zadult = Adaboost(adultfeatures_train, adultoutput_train, 5)\n"
   ]
  },
  {
   "cell_type": "code",
   "execution_count": 151,
   "id": "4e041ca3",
   "metadata": {},
   "outputs": [],
   "source": [
    "hcred, zcred = Adaboost(credfeatures_train, credoutput_train, 5)"
   ]
  },
  {
   "cell_type": "code",
   "execution_count": 108,
   "id": "09aad482",
   "metadata": {},
   "outputs": [],
   "source": [
    "h10, z10 = Adaboost(features_train, output_train, 10)\n"
   ]
  },
  {
   "cell_type": "code",
   "execution_count": 109,
   "id": "83d2c73a",
   "metadata": {},
   "outputs": [],
   "source": [
    "hadult10, zadult10 = Adaboost(adultfeatures_train, adultoutput_train, 10)\n"
   ]
  },
  {
   "cell_type": "code",
   "execution_count": 152,
   "id": "3b353e0f",
   "metadata": {},
   "outputs": [],
   "source": [
    "hcred10, zcred10 = Adaboost(credfeatures_train, credoutput_train, 10)"
   ]
  },
  {
   "cell_type": "code",
   "execution_count": 110,
   "id": "8899578e",
   "metadata": {},
   "outputs": [],
   "source": [
    "h15, z15 = Adaboost(features_train, output_train, 15)\n"
   ]
  },
  {
   "cell_type": "code",
   "execution_count": 111,
   "id": "1bf7866c",
   "metadata": {},
   "outputs": [],
   "source": [
    "hadult15, zadult15 = Adaboost(adultfeatures_train, adultoutput_train, 15)\n"
   ]
  },
  {
   "cell_type": "code",
   "execution_count": 154,
   "id": "7948bf29",
   "metadata": {},
   "outputs": [
    {
     "ename": "KeyboardInterrupt",
     "evalue": "",
     "output_type": "error",
     "traceback": [
      "\u001b[1;31m---------------------------------------------------------------------------\u001b[0m",
      "\u001b[1;31mKeyboardInterrupt\u001b[0m                         Traceback (most recent call last)",
      "\u001b[1;32m<ipython-input-154-d6c01b867973>\u001b[0m in \u001b[0;36m<module>\u001b[1;34m\u001b[0m\n\u001b[1;32m----> 1\u001b[1;33m \u001b[0mhcred15\u001b[0m\u001b[1;33m,\u001b[0m \u001b[0mzcred15\u001b[0m \u001b[1;33m=\u001b[0m \u001b[0mAdaboost\u001b[0m\u001b[1;33m(\u001b[0m\u001b[0mcredfeatures_train\u001b[0m\u001b[1;33m,\u001b[0m \u001b[0mcredoutput_train\u001b[0m\u001b[1;33m,\u001b[0m \u001b[1;36m15\u001b[0m\u001b[1;33m)\u001b[0m\u001b[1;33m\u001b[0m\u001b[1;33m\u001b[0m\u001b[0m\n\u001b[0m",
      "\u001b[1;32m<ipython-input-105-00100e34b320>\u001b[0m in \u001b[0;36mAdaboost\u001b[1;34m(features, output, K)\u001b[0m\n\u001b[0;32m     21\u001b[0m \u001b[1;33m\u001b[0m\u001b[0m\n\u001b[0;32m     22\u001b[0m \u001b[1;33m\u001b[0m\u001b[0m\n\u001b[1;32m---> 23\u001b[1;33m         \u001b[0mw2\u001b[0m\u001b[1;33m,\u001b[0m \u001b[0mb\u001b[0m\u001b[1;33m,\u001b[0m\u001b[0m_\u001b[0m \u001b[1;33m=\u001b[0m \u001b[0mlogistic_regression\u001b[0m\u001b[1;33m(\u001b[0m\u001b[0msampleFeature\u001b[0m\u001b[1;33m,\u001b[0m \u001b[0msampleOutput\u001b[0m\u001b[1;33m,\u001b[0m \u001b[1;36m0\u001b[0m\u001b[1;33m,\u001b[0m \u001b[1;36m300\u001b[0m\u001b[1;33m,\u001b[0m \u001b[1;36m0.025\u001b[0m\u001b[1;33m)\u001b[0m\u001b[1;33m\u001b[0m\u001b[1;33m\u001b[0m\u001b[0m\n\u001b[0m\u001b[0;32m     24\u001b[0m \u001b[1;31m#         print(w2.shape)\u001b[0m\u001b[1;33m\u001b[0m\u001b[1;33m\u001b[0m\u001b[1;33m\u001b[0m\u001b[0m\n\u001b[0;32m     25\u001b[0m \u001b[1;31m#         h[k] = (np.array(w2)).reshape((len(w2),1))\u001b[0m\u001b[1;33m\u001b[0m\u001b[1;33m\u001b[0m\u001b[1;33m\u001b[0m\u001b[0m\n",
      "\u001b[1;32m<ipython-input-94-0f6464da4463>\u001b[0m in \u001b[0;36mlogistic_regression\u001b[1;34m(features, output, bias, iterations, learning_rate)\u001b[0m\n\u001b[0;32m     19\u001b[0m \u001b[1;33m\u001b[0m\u001b[0m\n\u001b[0;32m     20\u001b[0m \u001b[1;33m\u001b[0m\u001b[0m\n\u001b[1;32m---> 21\u001b[1;33m         \u001b[0mdw\u001b[0m\u001b[1;33m,\u001b[0m \u001b[0mdb\u001b[0m \u001b[1;33m=\u001b[0m \u001b[0mgradients\u001b[0m\u001b[1;33m(\u001b[0m\u001b[0mfeatures\u001b[0m\u001b[1;33m,\u001b[0m \u001b[0moutput\u001b[0m\u001b[1;33m,\u001b[0m \u001b[0my_hat\u001b[0m\u001b[1;33m,\u001b[0m \u001b[0mder_y\u001b[0m\u001b[1;33m)\u001b[0m\u001b[1;33m\u001b[0m\u001b[1;33m\u001b[0m\u001b[0m\n\u001b[0m\u001b[0;32m     22\u001b[0m \u001b[1;33m\u001b[0m\u001b[0m\n\u001b[0;32m     23\u001b[0m \u001b[1;33m\u001b[0m\u001b[0m\n",
      "\u001b[1;32m<ipython-input-92-f1868832c86f>\u001b[0m in \u001b[0;36mgradients\u001b[1;34m(X, y, y_hat, der_y)\u001b[0m\n\u001b[0;32m     10\u001b[0m     \u001b[1;31m# Gradient of loss w.r.t weights.\u001b[0m\u001b[1;33m\u001b[0m\u001b[1;33m\u001b[0m\u001b[1;33m\u001b[0m\u001b[0m\n\u001b[0;32m     11\u001b[0m     \u001b[1;32mfor\u001b[0m \u001b[0mi\u001b[0m \u001b[1;32min\u001b[0m \u001b[0mrange\u001b[0m\u001b[1;33m(\u001b[0m\u001b[1;36m0\u001b[0m\u001b[1;33m,\u001b[0m \u001b[0mlen\u001b[0m\u001b[1;33m(\u001b[0m\u001b[0my_hat\u001b[0m\u001b[1;33m)\u001b[0m\u001b[1;33m)\u001b[0m\u001b[1;33m:\u001b[0m\u001b[1;33m\u001b[0m\u001b[1;33m\u001b[0m\u001b[0m\n\u001b[1;32m---> 12\u001b[1;33m         \u001b[1;32mif\u001b[0m \u001b[0my_hat\u001b[0m\u001b[1;33m[\u001b[0m\u001b[0mi\u001b[0m\u001b[1;33m]\u001b[0m \u001b[1;33m>\u001b[0m \u001b[1;36m0\u001b[0m\u001b[1;33m:\u001b[0m\u001b[1;33m\u001b[0m\u001b[1;33m\u001b[0m\u001b[0m\n\u001b[0m\u001b[0;32m     13\u001b[0m             \u001b[0my_hat\u001b[0m\u001b[1;33m[\u001b[0m\u001b[0mi\u001b[0m\u001b[1;33m]\u001b[0m \u001b[1;33m=\u001b[0m \u001b[1;36m1\u001b[0m\u001b[1;33m\u001b[0m\u001b[1;33m\u001b[0m\u001b[0m\n\u001b[0;32m     14\u001b[0m \u001b[1;33m\u001b[0m\u001b[0m\n",
      "\u001b[1;31mKeyboardInterrupt\u001b[0m: "
     ]
    }
   ],
   "source": [
    "hcred15, zcred15 = Adaboost(credfeatures_train, credoutput_train, 15)"
   ]
  },
  {
   "cell_type": "code",
   "execution_count": 112,
   "id": "25d3ab64",
   "metadata": {},
   "outputs": [],
   "source": [
    "h20, z20 = Adaboost(features_train, output_train, 20)\n"
   ]
  },
  {
   "cell_type": "code",
   "execution_count": 113,
   "id": "b08e573b",
   "metadata": {},
   "outputs": [],
   "source": [
    "hadult20, zadult20 = Adaboost(adultfeatures_train, adultoutput_train, 20)\n"
   ]
  },
  {
   "cell_type": "code",
   "execution_count": null,
   "id": "7690f12c",
   "metadata": {},
   "outputs": [],
   "source": [
    "hcred20, zcred20 = Adaboost(credfeatures_train, credoutput_train, 20)"
   ]
  },
  {
   "cell_type": "code",
   "execution_count": 114,
   "id": "485c9ba3",
   "metadata": {},
   "outputs": [],
   "source": [
    "def predictionAdaboost(feature_test, K, h, z):\n",
    "    \n",
    "    \n",
    "    y_hat = np.zeros((K,len(feature_test)))\n",
    "    \n",
    "    for k in range(K):\n",
    "        y_hat[k] = tanh(np.dot(feature_test, np.transpose(h[k]))) * z[k]\n",
    "        \n",
    "    y_hat = np.transpose(y_hat)\n",
    "    \n",
    "    avgY_hat = np.zeros((len(feature_test), 1))\n",
    "    \n",
    "    for i in range(len(y_hat)):\n",
    "        value = np.average(y_hat[i])\n",
    "        \n",
    "        if value>0 :\n",
    "            avgY_hat[i] = 1\n",
    "        else:\n",
    "            avgY_hat[i] = -1\n",
    "            \n",
    "    return avgY_hat\n",
    "            \n",
    "        \n",
    "    "
   ]
  },
  {
   "cell_type": "code",
   "execution_count": 115,
   "id": "9632fc8a",
   "metadata": {},
   "outputs": [
    {
     "name": "stdout",
     "output_type": "stream",
     "text": [
      "[[1.]\n",
      " [1.]\n",
      " [1.]\n",
      " ...\n",
      " [1.]\n",
      " [1.]\n",
      " [1.]]\n",
      "[[1.]\n",
      " [1.]\n",
      " [1.]\n",
      " ...\n",
      " [1.]\n",
      " [1.]\n",
      " [1.]]\n"
     ]
    }
   ],
   "source": [
    "predicted_adaboost_output5 = predictionAdaboost(features_test, 5, h, z) \n",
    "adultpredicted_adaboost_output5 = predictionAdaboost(adultfeatures_test, 5, hadult, zadult) \n",
    "\n",
    "\n",
    "print(predicted_adaboost_output5)\n",
    "print(adultpredicted_adaboost_output5)\n"
   ]
  },
  {
   "cell_type": "code",
   "execution_count": 137,
   "id": "15cf1237",
   "metadata": {},
   "outputs": [
    {
     "name": "stdout",
     "output_type": "stream",
     "text": [
      "[[1.]\n",
      " [1.]\n",
      " [1.]\n",
      " ...\n",
      " [1.]\n",
      " [1.]\n",
      " [1.]]\n",
      "[[1.]\n",
      " [1.]\n",
      " [1.]\n",
      " ...\n",
      " [1.]\n",
      " [1.]\n",
      " [1.]]\n"
     ]
    }
   ],
   "source": [
    "predicted_adaboost_output52 = predictionAdaboost(features_train, 5, h, z) \n",
    "adultpredicted_adaboost_output52 = predictionAdaboost(adultfeatures_train, 5, hadult, zadult) \n",
    "\n",
    "\n",
    "print(predicted_adaboost_output52)\n",
    "print(adultpredicted_adaboost_output52)"
   ]
  },
  {
   "cell_type": "code",
   "execution_count": 155,
   "id": "fee945ab",
   "metadata": {},
   "outputs": [
    {
     "name": "stdout",
     "output_type": "stream",
     "text": [
      "[[-1.]\n",
      " [-1.]\n",
      " [-1.]\n",
      " ...\n",
      " [-1.]\n",
      " [-1.]\n",
      " [-1.]]\n",
      "[[-1.]\n",
      " [-1.]\n",
      " [-1.]\n",
      " ...\n",
      " [-1.]\n",
      " [-1.]\n",
      " [-1.]]\n"
     ]
    }
   ],
   "source": [
    "credpredicted_adaboost_output5 = predictionAdaboost(credfeatures_test, 5, hcred, zcred) \n",
    "print(credpredicted_adaboost_output5)\n",
    "credpredicted_adaboost_output52 = predictionAdaboost(credfeatures_train, 5, hcred, zcred) \n",
    "print(credpredicted_adaboost_output52)"
   ]
  },
  {
   "cell_type": "code",
   "execution_count": 116,
   "id": "816b7f28",
   "metadata": {},
   "outputs": [
    {
     "name": "stdout",
     "output_type": "stream",
     "text": [
      "[[-1.]\n",
      " [-1.]\n",
      " [-1.]\n",
      " ...\n",
      " [-1.]\n",
      " [-1.]\n",
      " [-1.]]\n",
      "[[1.]\n",
      " [1.]\n",
      " [1.]\n",
      " ...\n",
      " [1.]\n",
      " [1.]\n",
      " [1.]]\n"
     ]
    }
   ],
   "source": [
    "predicted_adaboost_output10 = predictionAdaboost(features_test, 10, h10, z10) \n",
    "adultpredicted_adaboost_output10 = predictionAdaboost(adultfeatures_test, 10, hadult10, zadult10) \n",
    "\n",
    "\n",
    "print(predicted_adaboost_output10)\n",
    "print(adultpredicted_adaboost_output10)\n"
   ]
  },
  {
   "cell_type": "code",
   "execution_count": 138,
   "id": "e6e5865d",
   "metadata": {},
   "outputs": [
    {
     "name": "stdout",
     "output_type": "stream",
     "text": [
      "[[-1.]\n",
      " [-1.]\n",
      " [-1.]\n",
      " ...\n",
      " [-1.]\n",
      " [-1.]\n",
      " [-1.]]\n",
      "[[1.]\n",
      " [1.]\n",
      " [1.]\n",
      " ...\n",
      " [1.]\n",
      " [1.]\n",
      " [1.]]\n"
     ]
    }
   ],
   "source": [
    "predicted_adaboost_output102 = predictionAdaboost(features_train, 10, h10, z10) \n",
    "adultpredicted_adaboost_output102 = predictionAdaboost(adultfeatures_train, 10, hadult10, zadult10) \n",
    "\n",
    "\n",
    "print(predicted_adaboost_output102)\n",
    "print(adultpredicted_adaboost_output102)"
   ]
  },
  {
   "cell_type": "code",
   "execution_count": 156,
   "id": "971d6ea5",
   "metadata": {},
   "outputs": [
    {
     "name": "stdout",
     "output_type": "stream",
     "text": [
      "[[-1.]\n",
      " [-1.]\n",
      " [-1.]\n",
      " ...\n",
      " [-1.]\n",
      " [-1.]\n",
      " [-1.]]\n",
      "[[-1.]\n",
      " [-1.]\n",
      " [-1.]\n",
      " ...\n",
      " [-1.]\n",
      " [-1.]\n",
      " [-1.]]\n"
     ]
    }
   ],
   "source": [
    "credpredicted_adaboost_output10 = predictionAdaboost(credfeatures_test, 10, hcred10, zcred10) \n",
    "print(credpredicted_adaboost_output10)\n",
    "credpredicted_adaboost_output102 = predictionAdaboost(credfeatures_train, 10, hcred10, zcred10) \n",
    "print(credpredicted_adaboost_output102)"
   ]
  },
  {
   "cell_type": "code",
   "execution_count": 117,
   "id": "f7b26e99",
   "metadata": {},
   "outputs": [
    {
     "name": "stdout",
     "output_type": "stream",
     "text": [
      "[[1.]\n",
      " [1.]\n",
      " [1.]\n",
      " ...\n",
      " [1.]\n",
      " [1.]\n",
      " [1.]]\n",
      "[[1.]\n",
      " [1.]\n",
      " [1.]\n",
      " ...\n",
      " [1.]\n",
      " [1.]\n",
      " [1.]]\n"
     ]
    }
   ],
   "source": [
    "predicted_adaboost_output15 = predictionAdaboost(features_test, 15, h15, z15) \n",
    "adultpredicted_adaboost_output15 = predictionAdaboost(adultfeatures_test, 15, hadult15, zadult15) \n",
    " \n",
    "\n",
    "print(predicted_adaboost_output15)\n",
    "print(adultpredicted_adaboost_output15)\n"
   ]
  },
  {
   "cell_type": "code",
   "execution_count": 139,
   "id": "e6ca3dac",
   "metadata": {},
   "outputs": [
    {
     "name": "stdout",
     "output_type": "stream",
     "text": [
      "[[1.]\n",
      " [1.]\n",
      " [1.]\n",
      " ...\n",
      " [1.]\n",
      " [1.]\n",
      " [1.]]\n",
      "[[1.]\n",
      " [1.]\n",
      " [1.]\n",
      " ...\n",
      " [1.]\n",
      " [1.]\n",
      " [1.]]\n"
     ]
    }
   ],
   "source": [
    "predicted_adaboost_output152 = predictionAdaboost(features_train, 15, h15, z15) \n",
    "adultpredicted_adaboost_output152 = predictionAdaboost(adultfeatures_train, 15, hadult15, zadult15) \n",
    " \n",
    "\n",
    "print(predicted_adaboost_output152)\n",
    "print(adultpredicted_adaboost_output152)"
   ]
  },
  {
   "cell_type": "code",
   "execution_count": null,
   "id": "430de54c",
   "metadata": {},
   "outputs": [],
   "source": [
    "credpredicted_adaboost_output15 = predictionAdaboost(credfeatures_test, 15, hcred15, zcred15)\n",
    "print(credpredicted_adaboost_output15)\n",
    "credpredicted_adaboost_output152 = predictionAdaboost(credfeatures_train, 15, hcred15, zcred15)\n",
    "print(credpredicted_adaboost_output152)"
   ]
  },
  {
   "cell_type": "code",
   "execution_count": 118,
   "id": "c59535e7",
   "metadata": {},
   "outputs": [
    {
     "name": "stdout",
     "output_type": "stream",
     "text": [
      "[[-1.]\n",
      " [-1.]\n",
      " [-1.]\n",
      " ...\n",
      " [-1.]\n",
      " [-1.]\n",
      " [-1.]]\n",
      "[[1.]\n",
      " [1.]\n",
      " [1.]\n",
      " ...\n",
      " [1.]\n",
      " [1.]\n",
      " [1.]]\n"
     ]
    }
   ],
   "source": [
    "predicted_adaboost_output20 = predictionAdaboost(features_test, 20, h20, z20) \n",
    "adultpredicted_adaboost_output20 = predictionAdaboost(adultfeatures_test, 20, hadult20, zadult20) \n",
    " \n",
    "\n",
    "print(predicted_adaboost_output20)\n",
    "print(adultpredicted_adaboost_output20)\n"
   ]
  },
  {
   "cell_type": "code",
   "execution_count": 140,
   "id": "6d7e567d",
   "metadata": {},
   "outputs": [
    {
     "name": "stdout",
     "output_type": "stream",
     "text": [
      "[[-1.]\n",
      " [-1.]\n",
      " [-1.]\n",
      " ...\n",
      " [-1.]\n",
      " [-1.]\n",
      " [-1.]]\n",
      "[[1.]\n",
      " [1.]\n",
      " [1.]\n",
      " ...\n",
      " [1.]\n",
      " [1.]\n",
      " [1.]]\n"
     ]
    }
   ],
   "source": [
    "predicted_adaboost_output202 = predictionAdaboost(features_train, 20, h20, z20) \n",
    "adultpredicted_adaboost_output202 = predictionAdaboost(adultfeatures_train, 20, hadult20, zadult20) \n",
    " \n",
    "\n",
    "print(predicted_adaboost_output202)\n",
    "print(adultpredicted_adaboost_output202)"
   ]
  },
  {
   "cell_type": "code",
   "execution_count": null,
   "id": "e0dfdf7e",
   "metadata": {},
   "outputs": [],
   "source": [
    "credpredicted_adaboost_output20 = predictionAdaboost(credfeatures_test, 20, hcred20, zcred20)\n",
    "print(credpredicted_adaboost_output20)\n",
    "credpredicted_adaboost_output202 = predictionAdaboost(credfeatures_train, 20, hcred20, zcred20)\n",
    "print(credpredicted_adaboost_output202)"
   ]
  },
  {
   "cell_type": "code",
   "execution_count": 119,
   "id": "bde55b09",
   "metadata": {},
   "outputs": [
    {
     "name": "stdout",
     "output_type": "stream",
     "text": [
      "Accuracy of adaboost of telco data for k = 5 0.2604684173172463\n",
      "Accuracy of adaboost of adult data for k = 5 0.23622627602727106\n"
     ]
    }
   ],
   "source": [
    "print(\"Accuracy of adaboost of telco data for k = 5 on test data\", metrics.accuracy_score(output_test, predicted_adaboost_output5))\n",
    "print(\"Accuracy of adaboost of adult data for k = 5 on test data\", metrics.accuracy_score(adultoutput_test, adultpredicted_adaboost_output5))\n"
   ]
  },
  {
   "cell_type": "code",
   "execution_count": 141,
   "id": "c9d996b8",
   "metadata": {},
   "outputs": [
    {
     "name": "stdout",
     "output_type": "stream",
     "text": [
      "Accuracy of adaboost of telco data for k = 5 on train data 0.2665956691515797\n",
      "Accuracy of adaboost of adult data for k = 5 on train data 0.2408095574460244\n"
     ]
    }
   ],
   "source": [
    "print(\"Accuracy of adaboost of telco data for k = 5 on train data\", metrics.accuracy_score(output_train, predicted_adaboost_output52))\n",
    "print(\"Accuracy of adaboost of adult data for k = 5 on train data\", metrics.accuracy_score(adultoutput_train, adultpredicted_adaboost_output52))\n"
   ]
  },
  {
   "cell_type": "code",
   "execution_count": 157,
   "id": "d9da7c4d",
   "metadata": {},
   "outputs": [
    {
     "name": "stdout",
     "output_type": "stream",
     "text": [
      "Accuracy of adaboost of credit data for k = 5 on test data 0.9984024156879269\n",
      "Accuracy of adaboost of credit data for k = 5 on train data 0.9982400393248071\n"
     ]
    }
   ],
   "source": [
    "print(\"Accuracy of adaboost of credit data for k = 5 on test data\", metrics.accuracy_score(credoutput_test, credpredicted_adaboost_output5))\n",
    "print(\"Accuracy of adaboost of credit data for k = 5 on train data\", metrics.accuracy_score(credoutput_train, credpredicted_adaboost_output52))\n",
    "\n"
   ]
  },
  {
   "cell_type": "code",
   "execution_count": 120,
   "id": "94c7c662",
   "metadata": {},
   "outputs": [
    {
     "name": "stdout",
     "output_type": "stream",
     "text": [
      "Accuracy of adaboost of telco data for k = 10 0.7395315826827538\n",
      "Accuracy of adaboost of adult data for k = 10 0.23622627602727106\n"
     ]
    }
   ],
   "source": [
    "print(\"Accuracy of adaboost of telco data for k = 10 on test data\", metrics.accuracy_score(output_test, predicted_adaboost_output10))\n",
    "print(\"Accuracy of adaboost of adult data for k = 10 on test data\", metrics.accuracy_score(adultoutput_test, adultpredicted_adaboost_output10))\n"
   ]
  },
  {
   "cell_type": "code",
   "execution_count": 142,
   "id": "f8e23785",
   "metadata": {},
   "outputs": [
    {
     "name": "stdout",
     "output_type": "stream",
     "text": [
      "Accuracy of adaboost of telco data for k = 10 on train data 0.7334043308484203\n",
      "Accuracy of adaboost of adult data for k = 10 on train data 0.2408095574460244\n"
     ]
    }
   ],
   "source": [
    "print(\"Accuracy of adaboost of telco data for k = 10 on train data\", metrics.accuracy_score(output_train, predicted_adaboost_output102))\n",
    "print(\"Accuracy of adaboost of adult data for k = 10 on train data\", metrics.accuracy_score(adultoutput_train, adultpredicted_adaboost_output102))\n"
   ]
  },
  {
   "cell_type": "code",
   "execution_count": 158,
   "id": "bc404a6c",
   "metadata": {},
   "outputs": [
    {
     "name": "stdout",
     "output_type": "stream",
     "text": [
      "Accuracy of adaboost of credit data for k = 10 on test data 0.9984550833026106\n",
      "Accuracy of adaboost of credit data for k = 10 on train data 0.9982970954065465\n"
     ]
    }
   ],
   "source": [
    "print(\"Accuracy of adaboost of credit data for k = 10 on test data\", metrics.accuracy_score(credoutput_test, credpredicted_adaboost_output10))\n",
    "print(\"Accuracy of adaboost of credit data for k = 10 on train data\", metrics.accuracy_score(credoutput_train, credpredicted_adaboost_output102))"
   ]
  },
  {
   "cell_type": "code",
   "execution_count": 121,
   "id": "f9a36698",
   "metadata": {},
   "outputs": [
    {
     "name": "stdout",
     "output_type": "stream",
     "text": [
      "Accuracy of adaboost of telco data for k = 15 0.2604684173172463\n",
      "Accuracy of adaboost of adult data for k = 15 0.23622627602727106\n"
     ]
    }
   ],
   "source": [
    "print(\"Accuracy of adaboost of telco data for k = 15 on test data\", metrics.accuracy_score(output_test, predicted_adaboost_output15))\n",
    "print(\"Accuracy of adaboost of adult data for k = 15 on test data\", metrics.accuracy_score(adultoutput_test, adultpredicted_adaboost_output15))\n"
   ]
  },
  {
   "cell_type": "code",
   "execution_count": 143,
   "id": "26873226",
   "metadata": {},
   "outputs": [
    {
     "name": "stdout",
     "output_type": "stream",
     "text": [
      "Accuracy of adaboost of telco data for k = 15 on train data 0.2665956691515797\n",
      "Accuracy of adaboost of adult data for k = 15 on train data 0.2408095574460244\n"
     ]
    }
   ],
   "source": [
    "print(\"Accuracy of adaboost of telco data for k = 15 on train data\", metrics.accuracy_score(output_train, predicted_adaboost_output152))\n",
    "print(\"Accuracy of adaboost of adult data for k = 15 on train data\", metrics.accuracy_score(adultoutput_train, adultpredicted_adaboost_output152))\n"
   ]
  },
  {
   "cell_type": "code",
   "execution_count": null,
   "id": "328f1b52",
   "metadata": {},
   "outputs": [],
   "source": [
    "print(\"Accuracy of adaboost of credit data for k = 15 on test data\", metrics.accuracy_score(credoutput_test, credpredicted_adaboost_output15))\n",
    "print(\"Accuracy of adaboost of credit data for k = 15 on train data\", metrics.accuracy_score(credoutput_train, credpredicted_adaboost_output152))"
   ]
  },
  {
   "cell_type": "code",
   "execution_count": 122,
   "id": "e80450d3",
   "metadata": {},
   "outputs": [
    {
     "name": "stdout",
     "output_type": "stream",
     "text": [
      "Accuracy of adaboost of telco data for k = 20 0.7395315826827538\n",
      "Accuracy of adaboost of adult data for k = 20 0.23622627602727106\n"
     ]
    }
   ],
   "source": [
    "print(\"Accuracy of adaboost of telco data for k = 20 on test data\", metrics.accuracy_score(output_test, predicted_adaboost_output20))\n",
    "print(\"Accuracy of adaboost of adult data for k = 20 on test data\", metrics.accuracy_score(adultoutput_test, adultpredicted_adaboost_output20))\n"
   ]
  },
  {
   "cell_type": "code",
   "execution_count": 144,
   "id": "56a2d24b",
   "metadata": {},
   "outputs": [
    {
     "name": "stdout",
     "output_type": "stream",
     "text": [
      "Accuracy of adaboost of telco data for k = 20 on train data 0.7334043308484203\n",
      "Accuracy of adaboost of adult data for k = 20 on train data 0.2408095574460244\n"
     ]
    }
   ],
   "source": [
    "print(\"Accuracy of adaboost of telco data for k = 20 on train data\", metrics.accuracy_score(output_train, predicted_adaboost_output202))\n",
    "print(\"Accuracy of adaboost of adult data for k = 20 on train data\", metrics.accuracy_score(adultoutput_train, adultpredicted_adaboost_output202))\n"
   ]
  },
  {
   "cell_type": "code",
   "execution_count": null,
   "id": "a75e2ad7",
   "metadata": {},
   "outputs": [],
   "source": [
    "print(\"Accuracy of adaboost of credit data for k = 20 on test data\", metrics.accuracy_score(credoutput_test, credpredicted_adaboost_output20))\n",
    "print(\"Accuracy of adaboost of credit data for k = 20 on train data\", metrics.accuracy_score(credoutput_train, credpredicted_adaboost_output202))"
   ]
  },
  {
   "cell_type": "code",
   "execution_count": 123,
   "id": "2b57a434",
   "metadata": {},
   "outputs": [
    {
     "name": "stdout",
     "output_type": "stream",
     "text": [
      "confusion matrix of adaboost of telco data for k = 5 [[   0 1042]\n",
      " [   0  367]]\n",
      "confusion matrix of adaboost of adult data for k = 5 [[    0 12435]\n",
      " [    0  3846]]\n"
     ]
    }
   ],
   "source": [
    "#tn, fp, fn, tp\n",
    "print(\"confusion matrix of adaboost of telco data for k = 5\",metrics.confusion_matrix(output_test, predicted_adaboost_output5))\n",
    "print(\"confusion matrix of adaboost of adult data for k = 5\",metrics.confusion_matrix(adultoutput_test, adultpredicted_adaboost_output5))\n"
   ]
  },
  {
   "cell_type": "code",
   "execution_count": null,
   "id": "ea62c926",
   "metadata": {},
   "outputs": [],
   "source": [
    "print(\"confusion matrix of adaboost of credit data for k = 5\",metrics.confusion_matrix(credoutput_test, credpredicted_adaboost_output5))"
   ]
  },
  {
   "cell_type": "code",
   "execution_count": 124,
   "id": "c4f00be4",
   "metadata": {},
   "outputs": [
    {
     "name": "stdout",
     "output_type": "stream",
     "text": [
      "confusion matrix of adaboost of telco data for k = 10 [[1042    0]\n",
      " [ 367    0]]\n",
      "confusion matrix of adaboost of adult data for k = 10 [[    0 12435]\n",
      " [    0  3846]]\n"
     ]
    }
   ],
   "source": [
    "#tn, fp, fn, tp\n",
    "print(\"confusion matrix of adaboost of telco data for k = 10\",metrics.confusion_matrix(output_test, predicted_adaboost_output10))\n",
    "print(\"confusion matrix of adaboost of adult data for k = 10\",metrics.confusion_matrix(adultoutput_test, adultpredicted_adaboost_output10))\n"
   ]
  },
  {
   "cell_type": "code",
   "execution_count": null,
   "id": "de01645f",
   "metadata": {},
   "outputs": [],
   "source": [
    "print(\"confusion matrix of adaboost of credit data for k = 10\",metrics.confusion_matrix(credoutput_test, credpredicted_adaboost_output10))"
   ]
  },
  {
   "cell_type": "code",
   "execution_count": 125,
   "id": "e3aec035",
   "metadata": {},
   "outputs": [
    {
     "name": "stdout",
     "output_type": "stream",
     "text": [
      "confusion matrix of adaboost of telco data for k = 15 [[   0 1042]\n",
      " [   0  367]]\n",
      "confusion matrix of adaboost of adult data for k = 15 [[    0 12435]\n",
      " [    0  3846]]\n"
     ]
    }
   ],
   "source": [
    "#tn, fp, fn, tp\n",
    "print(\"confusion matrix of adaboost of telco data for k = 15\",metrics.confusion_matrix(output_test, predicted_adaboost_output15))\n",
    "print(\"confusion matrix of adaboost of adult data for k = 15\",metrics.confusion_matrix(adultoutput_test, adultpredicted_adaboost_output15))\n"
   ]
  },
  {
   "cell_type": "code",
   "execution_count": null,
   "id": "413ed9e0",
   "metadata": {},
   "outputs": [],
   "source": [
    "print(\"confusion matrix of adaboost of credit data for k = 15\",metrics.confusion_matrix(credoutput_test, credpredicted_adaboost_output15))"
   ]
  },
  {
   "cell_type": "code",
   "execution_count": 126,
   "id": "dfc13034",
   "metadata": {},
   "outputs": [
    {
     "name": "stdout",
     "output_type": "stream",
     "text": [
      "confusion matrix of adaboost of telco data for k = 20 [[1042    0]\n",
      " [ 367    0]]\n",
      "confusion matrix of adaboost of adult data for k = 20 [[    0 12435]\n",
      " [    0  3846]]\n"
     ]
    }
   ],
   "source": [
    "#tn, fp, fn, tp\n",
    "print(\"confusion matrix of adaboost of telco data for k = 20\",metrics.confusion_matrix(output_test, predicted_adaboost_output20))\n",
    "print(\"confusion matrix of adaboost of adult data for k = 20\",metrics.confusion_matrix(adultoutput_test, adultpredicted_adaboost_output20))\n"
   ]
  },
  {
   "cell_type": "code",
   "execution_count": null,
   "id": "5dac192a",
   "metadata": {},
   "outputs": [],
   "source": [
    "print(\"confusion matrix of adaboost of credit data for k = 20\",metrics.confusion_matrix(credoutput_test, credpredicted_adaboost_output20))"
   ]
  },
  {
   "cell_type": "code",
   "execution_count": null,
   "id": "199a2de5",
   "metadata": {},
   "outputs": [],
   "source": []
  }
 ],
 "metadata": {
  "kernelspec": {
   "display_name": "Python 3",
   "language": "python",
   "name": "python3"
  },
  "language_info": {
   "codemirror_mode": {
    "name": "ipython",
    "version": 3
   },
   "file_extension": ".py",
   "mimetype": "text/x-python",
   "name": "python",
   "nbconvert_exporter": "python",
   "pygments_lexer": "ipython3",
   "version": "3.8.8"
  }
 },
 "nbformat": 4,
 "nbformat_minor": 5
}
